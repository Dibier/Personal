{
 "cells": [
  {
   "cell_type": "markdown",
   "id": "7cf1678e",
   "metadata": {},
   "source": [
    "### Librerías importadas"
   ]
  },
  {
   "cell_type": "code",
   "execution_count": 1,
   "id": "298330d3",
   "metadata": {},
   "outputs": [],
   "source": [
    "import pandas as pd\n",
    "from sklearn.model_selection import train_test_split as split\n",
    "from sklearn import metrics\n",
    "from sklearn.metrics import confusion_matrix as cm\n",
    "from tensorflow import keras as kr\n",
    "from tensorflow.keras import layers\n",
    "import matplotlib.pyplot as plt"
   ]
  },
  {
   "cell_type": "markdown",
   "id": "f40de60c",
   "metadata": {},
   "source": [
    "### Carga de datos"
   ]
  },
  {
   "cell_type": "code",
   "execution_count": 2,
   "id": "4211afc5",
   "metadata": {},
   "outputs": [
    {
     "data": {
      "text/plain": [
       "['id',\n",
       " 'diagnosis',\n",
       " 'radius_mean',\n",
       " 'texture_mean',\n",
       " 'perimeter_mean',\n",
       " 'area_mean',\n",
       " 'smoothness_mean',\n",
       " 'compactness_mean',\n",
       " 'concavity_mean',\n",
       " 'concave points_mean',\n",
       " 'symmetry_mean',\n",
       " 'fractal_dimension_mean',\n",
       " 'radius_se',\n",
       " 'texture_se',\n",
       " 'perimeter_se',\n",
       " 'area_se',\n",
       " 'smoothness_se',\n",
       " 'compactness_se',\n",
       " 'concavity_se',\n",
       " 'concave points_se',\n",
       " 'symmetry_se',\n",
       " 'fractal_dimension_se',\n",
       " 'radius_worst',\n",
       " 'texture_worst',\n",
       " 'perimeter_worst',\n",
       " 'area_worst',\n",
       " 'smoothness_worst',\n",
       " 'compactness_worst',\n",
       " 'concavity_worst',\n",
       " 'concave points_worst',\n",
       " 'symmetry_worst',\n",
       " 'fractal_dimension_worst',\n",
       " 'Unnamed: 32']"
      ]
     },
     "execution_count": 2,
     "metadata": {},
     "output_type": "execute_result"
    }
   ],
   "source": [
    "datos = pd.read_csv('data_cancer.csv')\n",
    "list(datos) # Muestra una lista de las columnas."
   ]
  },
  {
   "cell_type": "code",
   "execution_count": 3,
   "id": "6ecb5a0e",
   "metadata": {},
   "outputs": [
    {
     "data": {
      "text/plain": [
       "['diagnosis',\n",
       " 'radius_mean',\n",
       " 'texture_mean',\n",
       " 'perimeter_mean',\n",
       " 'area_mean',\n",
       " 'smoothness_mean',\n",
       " 'compactness_mean',\n",
       " 'concavity_mean',\n",
       " 'concave points_mean',\n",
       " 'symmetry_mean',\n",
       " 'fractal_dimension_mean',\n",
       " 'radius_se',\n",
       " 'texture_se',\n",
       " 'perimeter_se',\n",
       " 'area_se',\n",
       " 'smoothness_se',\n",
       " 'compactness_se',\n",
       " 'concavity_se',\n",
       " 'concave points_se',\n",
       " 'symmetry_se',\n",
       " 'fractal_dimension_se',\n",
       " 'radius_worst',\n",
       " 'texture_worst',\n",
       " 'perimeter_worst',\n",
       " 'area_worst',\n",
       " 'smoothness_worst',\n",
       " 'compactness_worst',\n",
       " 'concavity_worst',\n",
       " 'concave points_worst',\n",
       " 'symmetry_worst',\n",
       " 'fractal_dimension_worst']"
      ]
     },
     "execution_count": 3,
     "metadata": {},
     "output_type": "execute_result"
    }
   ],
   "source": [
    "#Borra metadatos innecesarios\n",
    "del datos['id'], datos['Unnamed: 32']\n",
    "list(datos)"
   ]
  },
  {
   "cell_type": "code",
   "execution_count": 4,
   "id": "23b7ce68",
   "metadata": {},
   "outputs": [],
   "source": [
    "X = datos.iloc[:,1:]\n",
    "y = datos.iloc[:,0]\n",
    "\n",
    "# Hace M = 0, B = 1\n",
    "y = y.replace(['M', 'B'], [0,1])\n",
    "\n",
    "# Divide los datos\n",
    "Xtn, Xtt, ytn, ytt = split(X, y, test_size = 0.2)\n"
   ]
  },
  {
   "cell_type": "markdown",
   "id": "15c06b20",
   "metadata": {},
   "source": [
    "### Preprocesamiento"
   ]
  },
  {
   "cell_type": "code",
   "execution_count": 5,
   "id": "faa42a17",
   "metadata": {},
   "outputs": [],
   "source": [
    "#Función de preprocesado\n",
    "def pre(X):\n",
    "    d = X.describe().transpose()\n",
    "    return (X-d['mean'])/d['std']"
   ]
  },
  {
   "cell_type": "code",
   "execution_count": 6,
   "id": "085a0e71",
   "metadata": {},
   "outputs": [],
   "source": [
    "# Preprocesando Xtn y Xtt\n",
    "Xtn = pre(Xtn)\n",
    "Xtt = pre(Xtt)"
   ]
  },
  {
   "cell_type": "markdown",
   "id": "5aa65fed",
   "metadata": {},
   "source": [
    "### Construye el modelo."
   ]
  },
  {
   "cell_type": "code",
   "execution_count": 7,
   "id": "c2ed1d91",
   "metadata": {},
   "outputs": [],
   "source": [
    "model = kr.Sequential([\n",
    "layers.Dense(2, activation='relu', input_shape=(Xtn.shape[1],)),\n",
    "layers.Dense(1, activation='sigmoid')\n",
    "])"
   ]
  },
  {
   "cell_type": "code",
   "execution_count": 8,
   "id": "44bb1d30",
   "metadata": {},
   "outputs": [],
   "source": [
    "model.compile(optimizer='adam', loss='binary_crossentropy', metrics=['accuracy'])"
   ]
  },
  {
   "cell_type": "code",
   "execution_count": 9,
   "id": "f490ed92",
   "metadata": {},
   "outputs": [
    {
     "name": "stdout",
     "output_type": "stream",
     "text": [
      "Epoch 1/150\n",
      "12/12 [==============================] - 9s 392ms/step - loss: 1.0271 - accuracy: 0.3217 - val_loss: 0.9401 - val_accuracy: 0.4945\n",
      "Epoch 2/150\n",
      "12/12 [==============================] - 1s 49ms/step - loss: 1.0110 - accuracy: 0.5096 - val_loss: 0.8690 - val_accuracy: 0.5495\n",
      "Epoch 3/150\n",
      "12/12 [==============================] - 1s 49ms/step - loss: 0.8861 - accuracy: 0.5962 - val_loss: 0.8027 - val_accuracy: 0.6044\n",
      "Epoch 4/150\n",
      "12/12 [==============================] - 1s 49ms/step - loss: 0.8396 - accuracy: 0.5919 - val_loss: 0.7450 - val_accuracy: 0.6703\n",
      "Epoch 5/150\n",
      "12/12 [==============================] - 0s 41ms/step - loss: 0.7738 - accuracy: 0.6535 - val_loss: 0.6969 - val_accuracy: 0.7143\n",
      "Epoch 6/150\n",
      "12/12 [==============================] - 0s 39ms/step - loss: 0.7245 - accuracy: 0.6986 - val_loss: 0.6567 - val_accuracy: 0.7473\n",
      "Epoch 7/150\n",
      "12/12 [==============================] - 1s 45ms/step - loss: 0.7578 - accuracy: 0.7209 - val_loss: 0.6226 - val_accuracy: 0.7802\n",
      "Epoch 8/150\n",
      "12/12 [==============================] - 1s 45ms/step - loss: 0.6583 - accuracy: 0.7641 - val_loss: 0.5894 - val_accuracy: 0.7802\n",
      "Epoch 9/150\n",
      "12/12 [==============================] - 0s 42ms/step - loss: 0.6151 - accuracy: 0.7819 - val_loss: 0.5573 - val_accuracy: 0.8132\n",
      "Epoch 10/150\n",
      "12/12 [==============================] - 1s 49ms/step - loss: 0.6079 - accuracy: 0.7588 - val_loss: 0.5275 - val_accuracy: 0.8242\n",
      "Epoch 11/150\n",
      "12/12 [==============================] - 1s 51ms/step - loss: 0.5536 - accuracy: 0.8412 - val_loss: 0.4993 - val_accuracy: 0.8462\n",
      "Epoch 12/150\n",
      "12/12 [==============================] - 0s 40ms/step - loss: 0.5416 - accuracy: 0.8308 - val_loss: 0.4734 - val_accuracy: 0.8462\n",
      "Epoch 13/150\n",
      "12/12 [==============================] - 0s 40ms/step - loss: 0.5138 - accuracy: 0.8451 - val_loss: 0.4488 - val_accuracy: 0.8462\n",
      "Epoch 14/150\n",
      "12/12 [==============================] - 0s 41ms/step - loss: 0.4858 - accuracy: 0.8383 - val_loss: 0.4277 - val_accuracy: 0.8571\n",
      "Epoch 15/150\n",
      "12/12 [==============================] - 0s 41ms/step - loss: 0.4603 - accuracy: 0.8684 - val_loss: 0.4078 - val_accuracy: 0.8571\n",
      "Epoch 16/150\n",
      "12/12 [==============================] - 0s 45ms/step - loss: 0.4576 - accuracy: 0.8734 - val_loss: 0.3905 - val_accuracy: 0.8681\n",
      "Epoch 17/150\n",
      "12/12 [==============================] - 1s 48ms/step - loss: 0.4204 - accuracy: 0.8798 - val_loss: 0.3746 - val_accuracy: 0.8681\n",
      "Epoch 18/150\n",
      "12/12 [==============================] - 1s 45ms/step - loss: 0.3866 - accuracy: 0.9028 - val_loss: 0.3597 - val_accuracy: 0.8791\n",
      "Epoch 19/150\n",
      "12/12 [==============================] - 1s 54ms/step - loss: 0.3920 - accuracy: 0.8847 - val_loss: 0.3457 - val_accuracy: 0.8791\n",
      "Epoch 20/150\n",
      "12/12 [==============================] - 1s 46ms/step - loss: 0.3838 - accuracy: 0.8935 - val_loss: 0.3337 - val_accuracy: 0.8791\n",
      "Epoch 21/150\n",
      "12/12 [==============================] - 0s 40ms/step - loss: 0.3470 - accuracy: 0.9231 - val_loss: 0.3225 - val_accuracy: 0.8791\n",
      "Epoch 22/150\n",
      "12/12 [==============================] - 0s 43ms/step - loss: 0.3381 - accuracy: 0.9085 - val_loss: 0.3121 - val_accuracy: 0.8791\n",
      "Epoch 23/150\n",
      "12/12 [==============================] - 0s 43ms/step - loss: 0.3455 - accuracy: 0.8990 - val_loss: 0.3023 - val_accuracy: 0.8791\n",
      "Epoch 24/150\n",
      "12/12 [==============================] - 0s 38ms/step - loss: 0.3314 - accuracy: 0.9067 - val_loss: 0.2931 - val_accuracy: 0.8791\n",
      "Epoch 25/150\n",
      "12/12 [==============================] - 0s 41ms/step - loss: 0.3139 - accuracy: 0.9094 - val_loss: 0.2841 - val_accuracy: 0.8901\n",
      "Epoch 26/150\n",
      "12/12 [==============================] - 0s 43ms/step - loss: 0.2968 - accuracy: 0.9243 - val_loss: 0.2756 - val_accuracy: 0.8901\n",
      "Epoch 27/150\n",
      "12/12 [==============================] - 1s 59ms/step - loss: 0.3059 - accuracy: 0.9148 - val_loss: 0.2677 - val_accuracy: 0.8791\n",
      "Epoch 28/150\n",
      "12/12 [==============================] - 1s 46ms/step - loss: 0.2896 - accuracy: 0.9143 - val_loss: 0.2608 - val_accuracy: 0.8791\n",
      "Epoch 29/150\n",
      "12/12 [==============================] - 1s 48ms/step - loss: 0.2969 - accuracy: 0.8997 - val_loss: 0.2541 - val_accuracy: 0.8901\n",
      "Epoch 30/150\n",
      "12/12 [==============================] - 0s 39ms/step - loss: 0.2579 - accuracy: 0.9213 - val_loss: 0.2477 - val_accuracy: 0.8901\n",
      "Epoch 31/150\n",
      "12/12 [==============================] - 0s 41ms/step - loss: 0.2477 - accuracy: 0.9230 - val_loss: 0.2415 - val_accuracy: 0.9011\n",
      "Epoch 32/150\n",
      "12/12 [==============================] - 1s 47ms/step - loss: 0.2576 - accuracy: 0.9185 - val_loss: 0.2356 - val_accuracy: 0.9011\n",
      "Epoch 33/150\n",
      "12/12 [==============================] - 0s 42ms/step - loss: 0.2569 - accuracy: 0.9119 - val_loss: 0.2299 - val_accuracy: 0.9011\n",
      "Epoch 34/150\n",
      "12/12 [==============================] - 0s 42ms/step - loss: 0.2279 - accuracy: 0.9369 - val_loss: 0.2248 - val_accuracy: 0.9011\n",
      "Epoch 35/150\n",
      "12/12 [==============================] - 0s 36ms/step - loss: 0.2093 - accuracy: 0.9497 - val_loss: 0.2196 - val_accuracy: 0.9011\n",
      "Epoch 36/150\n",
      "12/12 [==============================] - 1s 47ms/step - loss: 0.2084 - accuracy: 0.9386 - val_loss: 0.2148 - val_accuracy: 0.9121\n",
      "Epoch 37/150\n",
      "12/12 [==============================] - 0s 38ms/step - loss: 0.2165 - accuracy: 0.9427 - val_loss: 0.2103 - val_accuracy: 0.9231\n",
      "Epoch 38/150\n",
      "12/12 [==============================] - 1s 45ms/step - loss: 0.2045 - accuracy: 0.9326 - val_loss: 0.2059 - val_accuracy: 0.9231\n",
      "Epoch 39/150\n",
      "12/12 [==============================] - 1s 47ms/step - loss: 0.1799 - accuracy: 0.9577 - val_loss: 0.2017 - val_accuracy: 0.9231\n",
      "Epoch 40/150\n",
      "12/12 [==============================] - 0s 41ms/step - loss: 0.2095 - accuracy: 0.9331 - val_loss: 0.1975 - val_accuracy: 0.9231\n",
      "Epoch 41/150\n",
      "12/12 [==============================] - 0s 44ms/step - loss: 0.1768 - accuracy: 0.9604 - val_loss: 0.1938 - val_accuracy: 0.9231\n",
      "Epoch 42/150\n",
      "12/12 [==============================] - 1s 48ms/step - loss: 0.1874 - accuracy: 0.9548 - val_loss: 0.1905 - val_accuracy: 0.9231\n",
      "Epoch 43/150\n",
      "12/12 [==============================] - 1s 46ms/step - loss: 0.1757 - accuracy: 0.9576 - val_loss: 0.1874 - val_accuracy: 0.9341\n",
      "Epoch 44/150\n",
      "12/12 [==============================] - 0s 43ms/step - loss: 0.1758 - accuracy: 0.9640 - val_loss: 0.1843 - val_accuracy: 0.9341\n",
      "Epoch 45/150\n",
      "12/12 [==============================] - 0s 42ms/step - loss: 0.1782 - accuracy: 0.9432 - val_loss: 0.1814 - val_accuracy: 0.9341\n",
      "Epoch 46/150\n",
      "12/12 [==============================] - 1s 48ms/step - loss: 0.1687 - accuracy: 0.9591 - val_loss: 0.1788 - val_accuracy: 0.9341\n",
      "Epoch 47/150\n",
      "12/12 [==============================] - 0s 42ms/step - loss: 0.1629 - accuracy: 0.9585 - val_loss: 0.1764 - val_accuracy: 0.9341\n",
      "Epoch 48/150\n",
      "12/12 [==============================] - 1s 45ms/step - loss: 0.1571 - accuracy: 0.9670 - val_loss: 0.1738 - val_accuracy: 0.9341\n",
      "Epoch 49/150\n",
      "12/12 [==============================] - 1s 45ms/step - loss: 0.1395 - accuracy: 0.9661 - val_loss: 0.1717 - val_accuracy: 0.9341\n",
      "Epoch 50/150\n",
      "12/12 [==============================] - 1s 46ms/step - loss: 0.1625 - accuracy: 0.9511 - val_loss: 0.1695 - val_accuracy: 0.9451\n",
      "Epoch 51/150\n",
      "12/12 [==============================] - 1s 52ms/step - loss: 0.1449 - accuracy: 0.9693 - val_loss: 0.1675 - val_accuracy: 0.9451\n",
      "Epoch 52/150\n",
      "12/12 [==============================] - 1s 48ms/step - loss: 0.1350 - accuracy: 0.9686 - val_loss: 0.1657 - val_accuracy: 0.9560\n",
      "Epoch 53/150\n",
      "12/12 [==============================] - 1s 46ms/step - loss: 0.1445 - accuracy: 0.9546 - val_loss: 0.1639 - val_accuracy: 0.9560\n",
      "Epoch 54/150\n",
      "12/12 [==============================] - 1s 44ms/step - loss: 0.1399 - accuracy: 0.9746 - val_loss: 0.1621 - val_accuracy: 0.9560\n",
      "Epoch 55/150\n",
      "12/12 [==============================] - 0s 44ms/step - loss: 0.1154 - accuracy: 0.9852 - val_loss: 0.1605 - val_accuracy: 0.9560\n",
      "Epoch 56/150\n",
      "12/12 [==============================] - 0s 40ms/step - loss: 0.1263 - accuracy: 0.9721 - val_loss: 0.1588 - val_accuracy: 0.9560\n",
      "Epoch 57/150\n",
      "12/12 [==============================] - 0s 39ms/step - loss: 0.1470 - accuracy: 0.9595 - val_loss: 0.1573 - val_accuracy: 0.9560\n",
      "Epoch 58/150\n",
      "12/12 [==============================] - 0s 42ms/step - loss: 0.1196 - accuracy: 0.9738 - val_loss: 0.1559 - val_accuracy: 0.9560\n",
      "Epoch 59/150\n",
      "12/12 [==============================] - 0s 40ms/step - loss: 0.1340 - accuracy: 0.9529 - val_loss: 0.1548 - val_accuracy: 0.9560\n",
      "Epoch 60/150\n",
      "12/12 [==============================] - 0s 43ms/step - loss: 0.1334 - accuracy: 0.9629 - val_loss: 0.1534 - val_accuracy: 0.9560\n",
      "Epoch 61/150\n",
      "12/12 [==============================] - 0s 44ms/step - loss: 0.1173 - accuracy: 0.9637 - val_loss: 0.1524 - val_accuracy: 0.9560\n",
      "Epoch 62/150\n",
      "12/12 [==============================] - 0s 42ms/step - loss: 0.1185 - accuracy: 0.9759 - val_loss: 0.1513 - val_accuracy: 0.9560\n",
      "Epoch 63/150\n",
      "12/12 [==============================] - 0s 38ms/step - loss: 0.1231 - accuracy: 0.9678 - val_loss: 0.1503 - val_accuracy: 0.9560\n",
      "Epoch 64/150\n",
      "12/12 [==============================] - 0s 39ms/step - loss: 0.1163 - accuracy: 0.9763 - val_loss: 0.1493 - val_accuracy: 0.9560\n",
      "Epoch 65/150\n",
      "12/12 [==============================] - 0s 41ms/step - loss: 0.1287 - accuracy: 0.9658 - val_loss: 0.1481 - val_accuracy: 0.9560\n",
      "Epoch 66/150\n",
      "12/12 [==============================] - 0s 43ms/step - loss: 0.0982 - accuracy: 0.9799 - val_loss: 0.1471 - val_accuracy: 0.9560\n",
      "Epoch 67/150\n",
      "12/12 [==============================] - 0s 40ms/step - loss: 0.1152 - accuracy: 0.9744 - val_loss: 0.1458 - val_accuracy: 0.9560\n",
      "Epoch 68/150\n",
      "12/12 [==============================] - 0s 40ms/step - loss: 0.0935 - accuracy: 0.9739 - val_loss: 0.1444 - val_accuracy: 0.9560\n",
      "Epoch 69/150\n",
      "12/12 [==============================] - 0s 42ms/step - loss: 0.1072 - accuracy: 0.9730 - val_loss: 0.1430 - val_accuracy: 0.9560\n",
      "Epoch 70/150\n",
      "12/12 [==============================] - 1s 45ms/step - loss: 0.0960 - accuracy: 0.9880 - val_loss: 0.1419 - val_accuracy: 0.9560\n",
      "Epoch 71/150\n",
      "12/12 [==============================] - 1s 45ms/step - loss: 0.1069 - accuracy: 0.9738 - val_loss: 0.1406 - val_accuracy: 0.9560\n",
      "Epoch 72/150\n",
      "12/12 [==============================] - 0s 37ms/step - loss: 0.0980 - accuracy: 0.9734 - val_loss: 0.1395 - val_accuracy: 0.9560\n",
      "Epoch 73/150\n",
      "12/12 [==============================] - 0s 44ms/step - loss: 0.0960 - accuracy: 0.9705 - val_loss: 0.1384 - val_accuracy: 0.9560\n",
      "Epoch 74/150\n",
      "12/12 [==============================] - 1s 48ms/step - loss: 0.1054 - accuracy: 0.9725 - val_loss: 0.1372 - val_accuracy: 0.9560\n",
      "Epoch 75/150\n",
      "12/12 [==============================] - 1s 52ms/step - loss: 0.1049 - accuracy: 0.9764 - val_loss: 0.1362 - val_accuracy: 0.9560\n",
      "Epoch 76/150\n",
      "12/12 [==============================] - 0s 42ms/step - loss: 0.0973 - accuracy: 0.9743 - val_loss: 0.1352 - val_accuracy: 0.9560\n",
      "Epoch 77/150\n",
      "12/12 [==============================] - 0s 40ms/step - loss: 0.0867 - accuracy: 0.9836 - val_loss: 0.1345 - val_accuracy: 0.9560\n",
      "Epoch 78/150\n",
      "12/12 [==============================] - 0s 38ms/step - loss: 0.0853 - accuracy: 0.9830 - val_loss: 0.1335 - val_accuracy: 0.9560\n",
      "Epoch 79/150\n",
      "12/12 [==============================] - 0s 38ms/step - loss: 0.0837 - accuracy: 0.9802 - val_loss: 0.1325 - val_accuracy: 0.9560\n",
      "Epoch 80/150\n",
      "12/12 [==============================] - 0s 43ms/step - loss: 0.0759 - accuracy: 0.9898 - val_loss: 0.1318 - val_accuracy: 0.9560\n",
      "Epoch 81/150\n",
      "12/12 [==============================] - 1s 48ms/step - loss: 0.0843 - accuracy: 0.9784 - val_loss: 0.1311 - val_accuracy: 0.9560\n",
      "Epoch 82/150\n",
      "12/12 [==============================] - 1s 45ms/step - loss: 0.0844 - accuracy: 0.9786 - val_loss: 0.1305 - val_accuracy: 0.9560\n",
      "Epoch 83/150\n",
      "12/12 [==============================] - 0s 39ms/step - loss: 0.0778 - accuracy: 0.9864 - val_loss: 0.1301 - val_accuracy: 0.9560\n",
      "Epoch 84/150\n",
      "12/12 [==============================] - 0s 43ms/step - loss: 0.0840 - accuracy: 0.9852 - val_loss: 0.1296 - val_accuracy: 0.9560\n",
      "Epoch 85/150\n",
      "12/12 [==============================] - 0s 43ms/step - loss: 0.0758 - accuracy: 0.9874 - val_loss: 0.1290 - val_accuracy: 0.9560\n",
      "Epoch 86/150\n",
      "12/12 [==============================] - 0s 41ms/step - loss: 0.0761 - accuracy: 0.9901 - val_loss: 0.1288 - val_accuracy: 0.9560\n",
      "Epoch 87/150\n",
      "12/12 [==============================] - 1s 45ms/step - loss: 0.0787 - accuracy: 0.9789 - val_loss: 0.1284 - val_accuracy: 0.9560\n",
      "Epoch 88/150\n",
      "12/12 [==============================] - 0s 40ms/step - loss: 0.0787 - accuracy: 0.9847 - val_loss: 0.1280 - val_accuracy: 0.9560\n",
      "Epoch 89/150\n",
      "12/12 [==============================] - 1s 45ms/step - loss: 0.0753 - accuracy: 0.9820 - val_loss: 0.1276 - val_accuracy: 0.9560\n",
      "Epoch 90/150\n",
      "12/12 [==============================] - 1s 46ms/step - loss: 0.0806 - accuracy: 0.9870 - val_loss: 0.1273 - val_accuracy: 0.9560\n",
      "Epoch 91/150\n",
      "12/12 [==============================] - 1s 48ms/step - loss: 0.0783 - accuracy: 0.9780 - val_loss: 0.1269 - val_accuracy: 0.9560\n",
      "Epoch 92/150\n",
      "12/12 [==============================] - 1s 48ms/step - loss: 0.0690 - accuracy: 0.9851 - val_loss: 0.1267 - val_accuracy: 0.9560\n",
      "Epoch 93/150\n",
      "12/12 [==============================] - 1s 48ms/step - loss: 0.0747 - accuracy: 0.9821 - val_loss: 0.1264 - val_accuracy: 0.9560\n",
      "Epoch 94/150\n",
      "12/12 [==============================] - 1s 45ms/step - loss: 0.0691 - accuracy: 0.9838 - val_loss: 0.1262 - val_accuracy: 0.9560\n",
      "Epoch 95/150\n",
      "12/12 [==============================] - 1s 47ms/step - loss: 0.0681 - accuracy: 0.9793 - val_loss: 0.1261 - val_accuracy: 0.9560\n",
      "Epoch 96/150\n",
      "12/12 [==============================] - 1s 48ms/step - loss: 0.0695 - accuracy: 0.9858 - val_loss: 0.1259 - val_accuracy: 0.9560\n",
      "Epoch 97/150\n",
      "12/12 [==============================] - 0s 40ms/step - loss: 0.0712 - accuracy: 0.9815 - val_loss: 0.1258 - val_accuracy: 0.9560\n",
      "Epoch 98/150\n",
      "12/12 [==============================] - 1s 59ms/step - loss: 0.0565 - accuracy: 0.9899 - val_loss: 0.1257 - val_accuracy: 0.9560\n",
      "Epoch 99/150\n",
      "12/12 [==============================] - 1s 48ms/step - loss: 0.0705 - accuracy: 0.9834 - val_loss: 0.1257 - val_accuracy: 0.9560\n",
      "Epoch 100/150\n",
      "12/12 [==============================] - 0s 44ms/step - loss: 0.0642 - accuracy: 0.9824 - val_loss: 0.1255 - val_accuracy: 0.9560\n",
      "Epoch 101/150\n",
      "12/12 [==============================] - 1s 47ms/step - loss: 0.0623 - accuracy: 0.9843 - val_loss: 0.1252 - val_accuracy: 0.9560\n",
      "Epoch 102/150\n",
      "12/12 [==============================] - 1s 45ms/step - loss: 0.0570 - accuracy: 0.9915 - val_loss: 0.1252 - val_accuracy: 0.9560\n",
      "Epoch 103/150\n",
      "12/12 [==============================] - 0s 41ms/step - loss: 0.0624 - accuracy: 0.9888 - val_loss: 0.1252 - val_accuracy: 0.9560\n",
      "Epoch 104/150\n",
      "12/12 [==============================] - 1s 45ms/step - loss: 0.0612 - accuracy: 0.9883 - val_loss: 0.1253 - val_accuracy: 0.9560\n",
      "Epoch 105/150\n",
      "12/12 [==============================] - 0s 37ms/step - loss: 0.0573 - accuracy: 0.9926 - val_loss: 0.1254 - val_accuracy: 0.9560\n",
      "Epoch 106/150\n",
      "12/12 [==============================] - 0s 36ms/step - loss: 0.0441 - accuracy: 0.9948 - val_loss: 0.1254 - val_accuracy: 0.9560\n",
      "Epoch 107/150\n",
      "12/12 [==============================] - 0s 39ms/step - loss: 0.0534 - accuracy: 0.9911 - val_loss: 0.1253 - val_accuracy: 0.9560\n",
      "Epoch 108/150\n",
      "12/12 [==============================] - 0s 36ms/step - loss: 0.0528 - accuracy: 0.9901 - val_loss: 0.1251 - val_accuracy: 0.9560\n",
      "Epoch 109/150\n",
      "12/12 [==============================] - 0s 38ms/step - loss: 0.0503 - accuracy: 0.9940 - val_loss: 0.1253 - val_accuracy: 0.9560\n",
      "Epoch 110/150\n",
      "12/12 [==============================] - 0s 37ms/step - loss: 0.0577 - accuracy: 0.9852 - val_loss: 0.1251 - val_accuracy: 0.9560\n",
      "Epoch 111/150\n",
      "12/12 [==============================] - 0s 34ms/step - loss: 0.0556 - accuracy: 0.9910 - val_loss: 0.1251 - val_accuracy: 0.9560\n",
      "Epoch 112/150\n",
      "12/12 [==============================] - 0s 36ms/step - loss: 0.0504 - accuracy: 0.9937 - val_loss: 0.1250 - val_accuracy: 0.9560\n",
      "Epoch 113/150\n",
      "12/12 [==============================] - 0s 36ms/step - loss: 0.0561 - accuracy: 0.9862 - val_loss: 0.1250 - val_accuracy: 0.9560\n",
      "Epoch 114/150\n",
      "12/12 [==============================] - 0s 39ms/step - loss: 0.0509 - accuracy: 0.9891 - val_loss: 0.1253 - val_accuracy: 0.9560\n",
      "Epoch 115/150\n",
      "12/12 [==============================] - 0s 38ms/step - loss: 0.0533 - accuracy: 0.9900 - val_loss: 0.1250 - val_accuracy: 0.9560\n",
      "Epoch 116/150\n",
      "12/12 [==============================] - 0s 38ms/step - loss: 0.0644 - accuracy: 0.9828 - val_loss: 0.1249 - val_accuracy: 0.9560\n",
      "Epoch 117/150\n",
      "12/12 [==============================] - 0s 34ms/step - loss: 0.0364 - accuracy: 0.9971 - val_loss: 0.1251 - val_accuracy: 0.9560\n",
      "Epoch 118/150\n",
      "12/12 [==============================] - 0s 36ms/step - loss: 0.0497 - accuracy: 0.9940 - val_loss: 0.1243 - val_accuracy: 0.9560\n",
      "Epoch 119/150\n",
      "12/12 [==============================] - 0s 37ms/step - loss: 0.0487 - accuracy: 0.9903 - val_loss: 0.1242 - val_accuracy: 0.9560\n",
      "Epoch 120/150\n",
      "12/12 [==============================] - 0s 36ms/step - loss: 0.0500 - accuracy: 0.9897 - val_loss: 0.1241 - val_accuracy: 0.9560\n",
      "Epoch 121/150\n",
      "12/12 [==============================] - 0s 38ms/step - loss: 0.0542 - accuracy: 0.9874 - val_loss: 0.1241 - val_accuracy: 0.9560\n",
      "Epoch 122/150\n",
      "12/12 [==============================] - 0s 38ms/step - loss: 0.0551 - accuracy: 0.9916 - val_loss: 0.1244 - val_accuracy: 0.9560\n",
      "Epoch 123/150\n",
      "12/12 [==============================] - 0s 39ms/step - loss: 0.0494 - accuracy: 0.9926 - val_loss: 0.1241 - val_accuracy: 0.9560\n",
      "Epoch 124/150\n",
      "12/12 [==============================] - 0s 37ms/step - loss: 0.0460 - accuracy: 0.9919 - val_loss: 0.1242 - val_accuracy: 0.9560\n",
      "Epoch 125/150\n",
      "12/12 [==============================] - 0s 38ms/step - loss: 0.0464 - accuracy: 0.9934 - val_loss: 0.1246 - val_accuracy: 0.9560\n",
      "Epoch 126/150\n",
      "12/12 [==============================] - 0s 36ms/step - loss: 0.0391 - accuracy: 0.9941 - val_loss: 0.1246 - val_accuracy: 0.9560\n",
      "Epoch 127/150\n",
      "12/12 [==============================] - 0s 39ms/step - loss: 0.0459 - accuracy: 0.9921 - val_loss: 0.1249 - val_accuracy: 0.9560\n",
      "Epoch 128/150\n",
      "12/12 [==============================] - 0s 38ms/step - loss: 0.0461 - accuracy: 0.9916 - val_loss: 0.1251 - val_accuracy: 0.9560\n",
      "Epoch 129/150\n",
      "12/12 [==============================] - 0s 35ms/step - loss: 0.0479 - accuracy: 0.9910 - val_loss: 0.1252 - val_accuracy: 0.9560\n",
      "Epoch 130/150\n",
      "12/12 [==============================] - 0s 36ms/step - loss: 0.0380 - accuracy: 0.9947 - val_loss: 0.1260 - val_accuracy: 0.9560\n",
      "Epoch 131/150\n",
      "12/12 [==============================] - 0s 34ms/step - loss: 0.0460 - accuracy: 0.9910 - val_loss: 0.1264 - val_accuracy: 0.9560\n",
      "Epoch 132/150\n",
      "12/12 [==============================] - 0s 41ms/step - loss: 0.0494 - accuracy: 0.9832 - val_loss: 0.1263 - val_accuracy: 0.9560\n",
      "Epoch 133/150\n",
      "12/12 [==============================] - 1s 49ms/step - loss: 0.0426 - accuracy: 0.9886 - val_loss: 0.1263 - val_accuracy: 0.9560\n",
      "Epoch 134/150\n",
      "12/12 [==============================] - 1s 51ms/step - loss: 0.0396 - accuracy: 0.9924 - val_loss: 0.1264 - val_accuracy: 0.9560\n",
      "Epoch 135/150\n",
      "12/12 [==============================] - 1s 45ms/step - loss: 0.0424 - accuracy: 0.9915 - val_loss: 0.1268 - val_accuracy: 0.9560\n",
      "Epoch 136/150\n",
      "12/12 [==============================] - 1s 49ms/step - loss: 0.0391 - accuracy: 0.9954 - val_loss: 0.1272 - val_accuracy: 0.9560\n",
      "Epoch 137/150\n",
      "12/12 [==============================] - 0s 38ms/step - loss: 0.0352 - accuracy: 0.9938 - val_loss: 0.1274 - val_accuracy: 0.9560\n",
      "Epoch 138/150\n",
      "12/12 [==============================] - 0s 43ms/step - loss: 0.0341 - accuracy: 0.9943 - val_loss: 0.1277 - val_accuracy: 0.9560\n",
      "Epoch 139/150\n",
      "12/12 [==============================] - 0s 41ms/step - loss: 0.0391 - accuracy: 0.9903 - val_loss: 0.1279 - val_accuracy: 0.9560\n",
      "Epoch 140/150\n",
      "12/12 [==============================] - 1s 47ms/step - loss: 0.0357 - accuracy: 0.9960 - val_loss: 0.1283 - val_accuracy: 0.9560\n",
      "Epoch 141/150\n",
      "12/12 [==============================] - 1s 46ms/step - loss: 0.0441 - accuracy: 0.9894 - val_loss: 0.1287 - val_accuracy: 0.9560\n",
      "Epoch 142/150\n",
      "12/12 [==============================] - 1s 49ms/step - loss: 0.0313 - accuracy: 0.9954 - val_loss: 0.1290 - val_accuracy: 0.9560\n",
      "Epoch 143/150\n",
      "12/12 [==============================] - 0s 40ms/step - loss: 0.0325 - accuracy: 0.9940 - val_loss: 0.1296 - val_accuracy: 0.9560\n",
      "Epoch 144/150\n",
      "12/12 [==============================] - 0s 44ms/step - loss: 0.0390 - accuracy: 0.9899 - val_loss: 0.1294 - val_accuracy: 0.9560\n",
      "Epoch 145/150\n",
      "12/12 [==============================] - 1s 48ms/step - loss: 0.0421 - accuracy: 0.9890 - val_loss: 0.1298 - val_accuracy: 0.9560\n",
      "Epoch 146/150\n",
      "12/12 [==============================] - 1s 50ms/step - loss: 0.0293 - accuracy: 0.9940 - val_loss: 0.1294 - val_accuracy: 0.9560\n",
      "Epoch 147/150\n",
      "12/12 [==============================] - 1s 52ms/step - loss: 0.0336 - accuracy: 0.9944 - val_loss: 0.1293 - val_accuracy: 0.9560\n",
      "Epoch 148/150\n",
      "12/12 [==============================] - 1s 51ms/step - loss: 0.0446 - accuracy: 0.9870 - val_loss: 0.1296 - val_accuracy: 0.9560\n",
      "Epoch 149/150\n",
      "12/12 [==============================] - 1s 49ms/step - loss: 0.0282 - accuracy: 0.9958 - val_loss: 0.1303 - val_accuracy: 0.9560\n",
      "Epoch 150/150\n",
      "12/12 [==============================] - 0s 43ms/step - loss: 0.0369 - accuracy: 0.9920 - val_loss: 0.1304 - val_accuracy: 0.9560\n"
     ]
    }
   ],
   "source": [
    "prey = model.fit(Xtn, ytn, epochs=150, validation_split = 0.2)"
   ]
  },
  {
   "cell_type": "code",
   "execution_count": 10,
   "id": "12fd3075",
   "metadata": {},
   "outputs": [],
   "source": [
    "#prey.history"
   ]
  },
  {
   "cell_type": "code",
   "execution_count": 11,
   "id": "77d5ad5c",
   "metadata": {},
   "outputs": [],
   "source": [
    "\n",
    "ypred = model.predict(Xtt)\n",
    "\n",
    "ypred[ypred > 0.5] = 1\n",
    "ypred[ypred <=0.5] = 0\n",
    "\n",
    "#ypred"
   ]
  },
  {
   "cell_type": "code",
   "execution_count": 12,
   "id": "56239940",
   "metadata": {},
   "outputs": [
    {
     "data": {
      "text/plain": [
       "array([[34,  1],\n",
       "       [ 5, 74]])"
      ]
     },
     "execution_count": 12,
     "metadata": {},
     "output_type": "execute_result"
    }
   ],
   "source": [
    "# Matriz de confusión\n",
    "metrics.confusion_matrix(ytt, ypred)\n"
   ]
  },
  {
   "cell_type": "code",
   "execution_count": 13,
   "id": "c0d6b884",
   "metadata": {},
   "outputs": [
    {
     "data": {
      "text/plain": [
       "0.9473684210526315"
      ]
     },
     "execution_count": 13,
     "metadata": {},
     "output_type": "execute_result"
    }
   ],
   "source": [
    "# Exactitud (Accuracy) = Probabilidad de que un resultado fue bien predicho.\n",
    "metrics.accuracy_score(ytt,ypred)\n"
   ]
  },
  {
   "cell_type": "code",
   "execution_count": 14,
   "id": "461a1df3",
   "metadata": {},
   "outputs": [],
   "source": [
    "\n",
    "def plot_metric(prey, metric):\n",
    "    train_metrics = prey.history[metric]\n",
    "    val_metrics = prey.history['val_'+metric]\n",
    "    epochs = range(1, len(train_metrics) + 1)\n",
    "    plt.plot(epochs, train_metrics, 'bo--')\n",
    "    plt.plot(epochs, val_metrics, 'ro-')\n",
    "    plt.title('Entrenamiento y validación '+ metric)\n",
    "    plt.xlabel(\"Epochs\")\n",
    "    plt.ylabel(metric)\n",
    "    plt.legend([\"train_\"+metric, 'val_'+metric])\n",
    "    plt.show()\n",
    "\n"
   ]
  },
  {
   "cell_type": "code",
   "execution_count": 15,
   "id": "1db0c99e",
   "metadata": {},
   "outputs": [
    {
     "data": {
      "image/png": "[encoded data removed]",
      "text/plain": [
       "<Figure size 432x288 with 1 Axes>"
      ]
     },
     "metadata": {
      "needs_background": "light"
     },
     "output_type": "display_data"
    }
   ],
   "source": [
    "plot_metric(prey, 'loss')\n"
   ]
  },
  {
   "cell_type": "code",
   "execution_count": 16,
   "id": "064bccfd",
   "metadata": {},
   "outputs": [
    {
     "data": {
      "image/png": "[encoded data removed]",
      "text/plain": [
       "<Figure size 432x288 with 1 Axes>"
      ]
     },
     "metadata": {
      "needs_background": "light"
     },
     "output_type": "display_data"
    }
   ],
   "source": [
    "plot_metric(prey, 'accuracy')"
   ]
  },
  {
   "cell_type": "code",
   "execution_count": null,
   "id": "2c3a4f55",
   "metadata": {},
   "outputs": [],
   "source": []
  },
  {
   "cell_type": "code",
   "execution_count": null,
   "id": "0060031c",
   "metadata": {},
   "outputs": [],
   "source": []
  }
 ],
 "metadata": {
  "kernelspec": {
   "display_name": "Python 3",
   "language": "python",
   "name": "python3"
  },
  "language_info": {
   "codemirror_mode": {
    "name": "ipython",
    "version": 3
   },
   "file_extension": ".py",
   "mimetype": "text/x-python",
   "name": "python",
   "nbconvert_exporter": "python",
   "pygments_lexer": "ipython3",
   "version": "3.8.8"
  }
 },
 "nbformat": 4,
 "nbformat_minor": 5
}
