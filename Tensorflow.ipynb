{
 "cells": [
  {
   "cell_type": "code",
   "execution_count": 2,
   "id": "295f9f15",
   "metadata": {},
   "outputs": [],
   "source": [
    "#Importando librerías\n",
    "\n",
    "import tensorflow as tf\n",
    "import numpy as np"
   ]
  },
  {
   "cell_type": "markdown",
   "id": "d12fa044",
   "metadata": {},
   "source": [
    "### Creación de tensores"
   ]
  },
  {
   "cell_type": "code",
   "execution_count": 3,
   "id": "0e98410e",
   "metadata": {},
   "outputs": [
    {
     "data": {
      "text/plain": [
       "<tf.Tensor: shape=(), dtype=int32, numpy=4>"
      ]
     },
     "execution_count": 3,
     "metadata": {},
     "output_type": "execute_result"
    }
   ],
   "source": [
    "t0 = tf.constant(4)\n",
    "t0"
   ]
  },
  {
   "cell_type": "code",
   "execution_count": 4,
   "id": "d51aa7c4",
   "metadata": {},
   "outputs": [
    {
     "data": {
      "text/plain": [
       "<tf.Tensor: shape=(4,), dtype=int32, numpy=array([ 1,  3, -2,  5], dtype=int32)>"
      ]
     },
     "execution_count": 4,
     "metadata": {},
     "output_type": "execute_result"
    }
   ],
   "source": [
    "t1 = tf.constant([1,3, -2, 5])\n",
    "t1"
   ]
  },
  {
   "cell_type": "code",
   "execution_count": 5,
   "id": "26637187",
   "metadata": {},
   "outputs": [
    {
     "data": {
      "text/plain": [
       "<tf.Tensor: shape=(2, 3), dtype=int32, numpy=\n",
       "array([[1, 2, 3],\n",
       "       [0, 1, 0]], dtype=int32)>"
      ]
     },
     "execution_count": 5,
     "metadata": {},
     "output_type": "execute_result"
    }
   ],
   "source": [
    "t2 = tf.constant([[1,2,3], [0, 1, 0]])\n",
    "t2"
   ]
  },
  {
   "cell_type": "markdown",
   "id": "773157f1",
   "metadata": {},
   "source": [
    "Un tensor en tensorflow consta de una arreglo numpy, un tamaño y un tipo. Para aceder a cualquiera de dus elementos se usa punto de la sigiente manera:"
   ]
  },
  {
   "cell_type": "code",
   "execution_count": 6,
   "id": "b4b469c4",
   "metadata": {},
   "outputs": [
    {
     "name": "stdout",
     "output_type": "stream",
     "text": [
      "[[1 2 3]\n",
      " [0 1 0]]\n",
      "(2, 3)\n",
      "<dtype: 'int32'>\n"
     ]
    }
   ],
   "source": [
    "print(t2.numpy())\n",
    "print(t2.shape)\n",
    "print(t2.dtype)"
   ]
  },
  {
   "cell_type": "markdown",
   "id": "d1934875",
   "metadata": {},
   "source": [
    "### Algebra de tensores"
   ]
  },
  {
   "cell_type": "code",
   "execution_count": 7,
   "id": "1246c4f9",
   "metadata": {},
   "outputs": [
    {
     "name": "stdout",
     "output_type": "stream",
     "text": [
      "a =  tf.Tensor(\n",
      "[[1 2]\n",
      " [3 4]], shape=(2, 2), dtype=int32) \n",
      "\n",
      "b =  tf.Tensor(\n",
      "[[0 1]\n",
      " [3 0]], shape=(2, 2), dtype=int32) \n",
      "\n",
      "c =  tf.Tensor(\n",
      "[[1 2 3]\n",
      " [0 0 3]], shape=(2, 3), dtype=int32)\n"
     ]
    }
   ],
   "source": [
    "a = tf.constant([[1,2],[3,4]])\n",
    "b = tf.constant([[0,1],[3,0]])\n",
    "c = tf.constant([[1,2,3], [0,0,3]])\n",
    "\n",
    "print(\"a = \", a, \"\\n\")\n",
    "print(\"b = \", b,\"\\n\")\n",
    "print(\"c = \", c)"
   ]
  },
  {
   "cell_type": "code",
   "execution_count": 8,
   "id": "bdb9393e",
   "metadata": {},
   "outputs": [
    {
     "name": "stdout",
     "output_type": "stream",
     "text": [
      "tf.Tensor(\n",
      "[[1 3]\n",
      " [6 4]], shape=(2, 2), dtype=int32)\n",
      "tf.Tensor(\n",
      "[[1 3]\n",
      " [6 4]], shape=(2, 2), dtype=int32)\n"
     ]
    }
   ],
   "source": [
    "# Suma\n",
    "\n",
    "print(a+b)\n",
    "print(tf.add(a,b))"
   ]
  },
  {
   "cell_type": "code",
   "execution_count": 9,
   "id": "42283a31",
   "metadata": {},
   "outputs": [
    {
     "name": "stdout",
     "output_type": "stream",
     "text": [
      "tf.Tensor(\n",
      "[[0 2]\n",
      " [9 0]], shape=(2, 2), dtype=int32)\n",
      "tf.Tensor(\n",
      "[[0 2]\n",
      " [9 0]], shape=(2, 2), dtype=int32)\n"
     ]
    }
   ],
   "source": [
    "# Multiplicación componente a componente.\n",
    "\n",
    "print(a*b)\n",
    "print(tf.multiply(a,b))"
   ]
  },
  {
   "cell_type": "code",
   "execution_count": 10,
   "id": "83d79213",
   "metadata": {},
   "outputs": [
    {
     "name": "stdout",
     "output_type": "stream",
     "text": [
      "tf.Tensor(\n",
      "[[ 1  2  9]\n",
      " [ 3  6 21]], shape=(2, 3), dtype=int32)\n",
      "tf.Tensor(\n",
      "[[ 1  2  9]\n",
      " [ 3  6 21]], shape=(2, 3), dtype=int32)\n"
     ]
    }
   ],
   "source": [
    "# Multiplicación de matrices (matricial)\n",
    "\n",
    "print(a@c)\n",
    "print(tf.matmul(a,c))"
   ]
  },
  {
   "cell_type": "markdown",
   "id": "dc62f2ce",
   "metadata": {},
   "source": [
    "### Funciones de reducción"
   ]
  },
  {
   "cell_type": "code",
   "execution_count": 11,
   "id": "7c5c614e",
   "metadata": {},
   "outputs": [
    {
     "name": "stdout",
     "output_type": "stream",
     "text": [
      "d =  tf.Tensor(\n",
      "[[-0.5 -1.5 -2.5]\n",
      " [ 0.5  0.5 -2.5]], shape=(2, 3), dtype=float64)\n"
     ]
    }
   ],
   "source": [
    "d = tf.constant(0.5-c.numpy())\n",
    "\n",
    "print(\"d = \", d)"
   ]
  },
  {
   "cell_type": "code",
   "execution_count": 12,
   "id": "6fe2d830",
   "metadata": {},
   "outputs": [
    {
     "name": "stdout",
     "output_type": "stream",
     "text": [
      "Máx de d:  0.5 \n",
      "\n",
      "Mín de d:  -2.5 \n",
      "\n",
      "Media de d:  -1.0 \n",
      "\n",
      "Arg máx de d:  [1 1 0] \n",
      "\n",
      "Soft máx de d:  [[0.66524096 0.24472847 0.09003057]\n",
      " [0.48785555 0.48785555 0.0242889 ]] \n",
      "\n",
      "Suma de d:  -6.0\n"
     ]
    }
   ],
   "source": [
    "\n",
    "print(\"Máx de d: \", tf.reduce_max(d).numpy(),\"\\n\")\n",
    "print(\"Mín de d: \", tf.reduce_min(d).numpy(),\"\\n\")\n",
    "print(\"Media de d: \", tf.reduce_mean(d).numpy(),'\\n')\n",
    "print(\"Arg máx de d: \", tf.argmax(d).numpy(),'\\n')\n",
    "print(\"Soft máx de d: \", tf.nn.softmax(d).numpy(),'\\n')\n",
    "print(\"Suma de d: \", tf.reduce_sum(d).numpy())\n"
   ]
  },
  {
   "cell_type": "markdown",
   "id": "ed17cb21",
   "metadata": {},
   "source": [
    "### Indexación y rebanado"
   ]
  },
  {
   "cell_type": "code",
   "execution_count": 13,
   "id": "6ba6d5a2",
   "metadata": {},
   "outputs": [
    {
     "name": "stdout",
     "output_type": "stream",
     "text": [
      "-1.5 -1.5 \n",
      "\n",
      "-2.5 -2.5 \n",
      "\n"
     ]
    }
   ],
   "source": [
    "# Aceder al elemento de un tensor.\n",
    "\n",
    "print(d[0,1].numpy(), d[0][1].numpy(),'\\n')\n",
    "\n",
    "print(d[1, 2].numpy(), d[1][2].numpy(), '\\n')"
   ]
  },
  {
   "cell_type": "code",
   "execution_count": 14,
   "id": "4da200fd",
   "metadata": {},
   "outputs": [
    {
     "name": "stdout",
     "output_type": "stream",
     "text": [
      "[ 0.5  0.5 -2.5] \n",
      "\n",
      "[-0.5 -1.5 -2.5] \n",
      "\n"
     ]
    }
   ],
   "source": [
    "# Acceder a una fila.\n",
    "\n",
    "print(d[1].numpy(), '\\n')\n",
    "\n",
    "print(d[0].numpy(), '\\n')"
   ]
  },
  {
   "cell_type": "code",
   "execution_count": 15,
   "id": "cc6a06a7",
   "metadata": {},
   "outputs": [
    {
     "data": {
      "text/plain": [
       "<tf.Tensor: shape=(3, 3), dtype=float64, numpy=\n",
       "array([[-0.5,  0.5,  1.5],\n",
       "       [ 2.5,  3.5,  4.5],\n",
       "       [ 5.5,  6.5,  7.5]])>"
      ]
     },
     "execution_count": 15,
     "metadata": {},
     "output_type": "execute_result"
    }
   ],
   "source": [
    "t = tf.constant(-1.5+ np.array([[1, 2, 3],\n",
    "                    [4, 5, 6],\n",
    "                    [7, 8, 9]\n",
    "                   ]))\n",
    "t"
   ]
  },
  {
   "cell_type": "code",
   "execution_count": 16,
   "id": "efca2b43",
   "metadata": {},
   "outputs": [
    {
     "data": {
      "text/plain": [
       "<tf.Tensor: shape=(2, 3), dtype=float64, numpy=\n",
       "array([[-0.5,  0.5,  1.5],\n",
       "       [ 2.5,  3.5,  4.5]])>"
      ]
     },
     "execution_count": 16,
     "metadata": {},
     "output_type": "execute_result"
    }
   ],
   "source": [
    "# Rebanado en filas.\n",
    "\n",
    "t[:2]"
   ]
  },
  {
   "cell_type": "code",
   "execution_count": 17,
   "id": "78446b26",
   "metadata": {},
   "outputs": [
    {
     "data": {
      "text/plain": [
       "<tf.Tensor: shape=(2, 3), dtype=float64, numpy=\n",
       "array([[2.5, 3.5, 4.5],\n",
       "       [5.5, 6.5, 7.5]])>"
      ]
     },
     "execution_count": 17,
     "metadata": {},
     "output_type": "execute_result"
    }
   ],
   "source": [
    "t[1:]"
   ]
  },
  {
   "cell_type": "code",
   "execution_count": 18,
   "id": "85874364",
   "metadata": {},
   "outputs": [
    {
     "data": {
      "text/plain": [
       "<tf.Tensor: shape=(2, 2), dtype=float64, numpy=\n",
       "array([[3.5, 4.5],\n",
       "       [6.5, 7.5]])>"
      ]
     },
     "execution_count": 18,
     "metadata": {},
     "output_type": "execute_result"
    }
   ],
   "source": [
    "# Rebanado en filas y columnas.\n",
    "\n",
    "t[1:, 1:]"
   ]
  },
  {
   "cell_type": "code",
   "execution_count": 19,
   "id": "9b2d2f4e",
   "metadata": {},
   "outputs": [
    {
     "data": {
      "text/plain": [
       "<tf.Tensor: shape=(3,), dtype=float64, numpy=array([0.5, 3.5, 6.5])>"
      ]
     },
     "execution_count": 19,
     "metadata": {},
     "output_type": "execute_result"
    }
   ],
   "source": [
    "# Seleccionando una columna.\n",
    "\n",
    "t[:, 1]"
   ]
  },
  {
   "cell_type": "markdown",
   "id": "dbdc8095",
   "metadata": {},
   "source": [
    "### Redimensionar"
   ]
  },
  {
   "cell_type": "code",
   "execution_count": 20,
   "id": "a640a74a",
   "metadata": {},
   "outputs": [
    {
     "data": {
      "text/plain": [
       "<tf.Tensor: shape=(24,), dtype=int64, numpy=\n",
       "array([ 0,  1,  2,  3,  4,  5,  6,  7,  8,  9, 10, 11, 12, 13, 14, 15, 16,\n",
       "       17, 18, 19, 20, 21, 22, 23])>"
      ]
     },
     "execution_count": 20,
     "metadata": {},
     "output_type": "execute_result"
    }
   ],
   "source": [
    "\n",
    "# Se usa tf.reshape(tensor, tamaño)\n",
    "\n",
    "t = tf.constant(np.arange(24))\n",
    "t\n",
    "\n",
    "\n"
   ]
  },
  {
   "cell_type": "code",
   "execution_count": 21,
   "id": "08556ae0",
   "metadata": {},
   "outputs": [
    {
     "data": {
      "text/plain": [
       "<tf.Tensor: shape=(3, 8), dtype=int64, numpy=\n",
       "array([[ 0,  1,  2,  3,  4,  5,  6,  7],\n",
       "       [ 8,  9, 10, 11, 12, 13, 14, 15],\n",
       "       [16, 17, 18, 19, 20, 21, 22, 23]])>"
      ]
     },
     "execution_count": 21,
     "metadata": {},
     "output_type": "execute_result"
    }
   ],
   "source": [
    "tf.reshape(t,(3,8))"
   ]
  },
  {
   "cell_type": "code",
   "execution_count": 22,
   "id": "a2c5ac96",
   "metadata": {},
   "outputs": [
    {
     "data": {
      "text/plain": [
       "<tf.Tensor: shape=(12, 2), dtype=int64, numpy=\n",
       "array([[ 0,  1],\n",
       "       [ 2,  3],\n",
       "       [ 4,  5],\n",
       "       [ 6,  7],\n",
       "       [ 8,  9],\n",
       "       [10, 11],\n",
       "       [12, 13],\n",
       "       [14, 15],\n",
       "       [16, 17],\n",
       "       [18, 19],\n",
       "       [20, 21],\n",
       "       [22, 23]])>"
      ]
     },
     "execution_count": 22,
     "metadata": {},
     "output_type": "execute_result"
    }
   ],
   "source": [
    "tf.reshape(t, (12,2))"
   ]
  },
  {
   "cell_type": "code",
   "execution_count": 23,
   "id": "e911978d",
   "metadata": {},
   "outputs": [
    {
     "data": {
      "text/plain": [
       "<tf.Tensor: shape=(2, 6, 2), dtype=int64, numpy=\n",
       "array([[[ 0,  1],\n",
       "        [ 2,  3],\n",
       "        [ 4,  5],\n",
       "        [ 6,  7],\n",
       "        [ 8,  9],\n",
       "        [10, 11]],\n",
       "\n",
       "       [[12, 13],\n",
       "        [14, 15],\n",
       "        [16, 17],\n",
       "        [18, 19],\n",
       "        [20, 21],\n",
       "        [22, 23]]])>"
      ]
     },
     "execution_count": 23,
     "metadata": {},
     "output_type": "execute_result"
    }
   ],
   "source": [
    "tf.reshape(t, (2,6,2))"
   ]
  },
  {
   "cell_type": "code",
   "execution_count": 24,
   "id": "f5943a30",
   "metadata": {},
   "outputs": [
    {
     "data": {
      "text/plain": [
       "<tf.Tensor: shape=(2, 6, 2), dtype=int64, numpy=\n",
       "array([[[ 0,  1],\n",
       "        [ 2,  3],\n",
       "        [ 4,  5],\n",
       "        [ 6,  7],\n",
       "        [ 8,  9],\n",
       "        [10, 11]],\n",
       "\n",
       "       [[12, 13],\n",
       "        [14, 15],\n",
       "        [16, 17],\n",
       "        [18, 19],\n",
       "        [20, 21],\n",
       "        [22, 23]]])>"
      ]
     },
     "execution_count": 24,
     "metadata": {},
     "output_type": "execute_result"
    }
   ],
   "source": [
    "# Si se usa -1 en la dimensión, reshape elige el mejor tamaño.\n",
    "\n",
    "tf.reshape(t, (2,-1,2))"
   ]
  },
  {
   "cell_type": "code",
   "execution_count": 25,
   "id": "200e25f6",
   "metadata": {},
   "outputs": [
    {
     "data": {
      "text/plain": [
       "<tf.Tensor: shape=(3, 2, 4), dtype=int64, numpy=\n",
       "array([[[ 0,  1,  2,  3],\n",
       "        [ 4,  5,  6,  7]],\n",
       "\n",
       "       [[ 8,  9, 10, 11],\n",
       "        [12, 13, 14, 15]],\n",
       "\n",
       "       [[16, 17, 18, 19],\n",
       "        [20, 21, 22, 23]]])>"
      ]
     },
     "execution_count": 25,
     "metadata": {},
     "output_type": "execute_result"
    }
   ],
   "source": [
    "tf.reshape(t, (-1,2,4))"
   ]
  },
  {
   "cell_type": "code",
   "execution_count": 26,
   "id": "2611f3f1",
   "metadata": {},
   "outputs": [
    {
     "name": "stdout",
     "output_type": "stream",
     "text": [
      "Error\n"
     ]
    }
   ],
   "source": [
    "# En caso de que no se pueda redimensionar una matriz, marca error.\n",
    "\n",
    "try:\n",
    "    tf.reshape(t, (2,6))\n",
    "except:\n",
    "    print(\"Error\")"
   ]
  },
  {
   "cell_type": "code",
   "execution_count": 27,
   "id": "305b2c17",
   "metadata": {},
   "outputs": [
    {
     "name": "stdout",
     "output_type": "stream",
     "text": [
      "Error\n"
     ]
    }
   ],
   "source": [
    "try:\n",
    "    tf.reshape(t, (5, -1))\n",
    "except:\n",
    "    print(\"Error\")"
   ]
  },
  {
   "cell_type": "markdown",
   "id": "b3cbe675",
   "metadata": {},
   "source": [
    "### Conversión de tipos"
   ]
  },
  {
   "cell_type": "code",
   "execution_count": 28,
   "id": "a2deedde",
   "metadata": {},
   "outputs": [
    {
     "data": {
      "text/plain": [
       "tf.int64"
      ]
     },
     "execution_count": 28,
     "metadata": {},
     "output_type": "execute_result"
    }
   ],
   "source": [
    "# Se usa la función cast(tensor, dtype= tf.tipo)\n",
    "\n",
    "t.dtype"
   ]
  },
  {
   "cell_type": "code",
   "execution_count": 29,
   "id": "fe9cb59d",
   "metadata": {},
   "outputs": [
    {
     "data": {
      "text/plain": [
       "tf.float16"
      ]
     },
     "execution_count": 29,
     "metadata": {},
     "output_type": "execute_result"
    }
   ],
   "source": [
    "tfloat16 = tf.cast(t,dtype=tf.float16)\n",
    "tfloat16.dtype"
   ]
  },
  {
   "cell_type": "code",
   "execution_count": 30,
   "id": "cb50c061",
   "metadata": {},
   "outputs": [
    {
     "data": {
      "text/plain": [
       "<tf.Tensor: shape=(24,), dtype=int64, numpy=\n",
       "array([ 0,  1,  2,  3,  4,  5,  6,  7,  8,  9, 10, 11, 12, 13, 14, 15, 16,\n",
       "       17, 18, 19, 20, 21, 22, 23])>"
      ]
     },
     "execution_count": 30,
     "metadata": {},
     "output_type": "execute_result"
    }
   ],
   "source": [
    "tf.cast(tfloat16, dtype=tf.int64)"
   ]
  },
  {
   "cell_type": "code",
   "execution_count": 31,
   "id": "c43e250c",
   "metadata": {},
   "outputs": [
    {
     "name": "stdout",
     "output_type": "stream",
     "text": [
      "Error\n"
     ]
    }
   ],
   "source": [
    "# En tensorflow, operaciones entre tensores de diferente tipo marca error\n",
    "\n",
    "try:\n",
    "    t+tfloat16\n",
    "except:\n",
    "    print(\"Error\")"
   ]
  },
  {
   "cell_type": "code",
   "execution_count": 32,
   "id": "7c012b0f",
   "metadata": {},
   "outputs": [
    {
     "name": "stdout",
     "output_type": "stream",
     "text": [
      "Error\n"
     ]
    }
   ],
   "source": [
    "try:\n",
    "    1.5 -t\n",
    "except:\n",
    "    print(\"Error\")"
   ]
  },
  {
   "cell_type": "code",
   "execution_count": 33,
   "id": "b80b4b56",
   "metadata": {},
   "outputs": [
    {
     "name": "stdout",
     "output_type": "stream",
     "text": [
      "Error\n"
     ]
    }
   ],
   "source": [
    "try:\n",
    "    tl.matmul(t, tfloat16)\n",
    "except:\n",
    "    print(\"Error\")"
   ]
  },
  {
   "cell_type": "markdown",
   "id": "2e055e7c",
   "metadata": {},
   "source": [
    "### Radiodibusión (broadcasting)"
   ]
  },
  {
   "cell_type": "code",
   "execution_count": 34,
   "id": "0a00954f",
   "metadata": {},
   "outputs": [
    {
     "data": {
      "text/plain": [
       "<tf.Tensor: shape=(3,), dtype=int32, numpy=array([0, 1, 2], dtype=int32)>"
      ]
     },
     "execution_count": 34,
     "metadata": {},
     "output_type": "execute_result"
    }
   ],
   "source": [
    "x = tf.range(3)\n",
    "y = tf.constant([2,2,2])\n",
    "z = tf.constant(2)\n",
    "\n",
    "x"
   ]
  },
  {
   "cell_type": "code",
   "execution_count": 35,
   "id": "4f28f863",
   "metadata": {},
   "outputs": [
    {
     "data": {
      "text/plain": [
       "<tf.Tensor: shape=(3,), dtype=int32, numpy=array([0, 2, 4], dtype=int32)>"
      ]
     },
     "execution_count": 35,
     "metadata": {},
     "output_type": "execute_result"
    }
   ],
   "source": [
    "# Las dimensiones del vector más pequeño de adaptan para poder hacer la operación\n",
    "\n",
    "x*y"
   ]
  },
  {
   "cell_type": "code",
   "execution_count": 36,
   "id": "49ad83e7",
   "metadata": {},
   "outputs": [
    {
     "data": {
      "text/plain": [
       "<tf.Tensor: shape=(3,), dtype=int32, numpy=array([0, 2, 4], dtype=int32)>"
      ]
     },
     "execution_count": 36,
     "metadata": {},
     "output_type": "execute_result"
    }
   ],
   "source": [
    "x*z"
   ]
  },
  {
   "cell_type": "code",
   "execution_count": 38,
   "id": "11313131",
   "metadata": {},
   "outputs": [
    {
     "data": {
      "text/plain": [
       "<tf.Tensor: shape=(3, 3), dtype=int32, numpy=\n",
       "array([[1, 2, 3],\n",
       "       [1, 2, 3],\n",
       "       [1, 2, 3]], dtype=int32)>"
      ]
     },
     "execution_count": 38,
     "metadata": {},
     "output_type": "execute_result"
    }
   ],
   "source": [
    "#La función broadcast_to estira las dimensiones del tensor orginal \n",
    "#para hacerlas coincidir con las dimensiones dadas\n",
    "\n",
    "tf.broadcast_to([1,2,3], [3,3])"
   ]
  },
  {
   "cell_type": "code",
   "execution_count": 40,
   "id": "a067c196",
   "metadata": {},
   "outputs": [
    {
     "data": {
      "text/plain": [
       "<tf.Tensor: shape=(2, 5), dtype=int32, numpy=\n",
       "array([[2, 2, 2, 2, 2],\n",
       "       [1, 1, 1, 1, 1]], dtype=int32)>"
      ]
     },
     "execution_count": 40,
     "metadata": {},
     "output_type": "execute_result"
    }
   ],
   "source": [
    "tf.broadcast_to([[2], [1]], (2,5))"
   ]
  },
  {
   "cell_type": "markdown",
   "id": "9323a8d8",
   "metadata": {},
   "source": [
    "### Tensores irregulares"
   ]
  },
  {
   "cell_type": "code",
   "execution_count": 41,
   "id": "e2235b04",
   "metadata": {},
   "outputs": [
    {
     "data": {
      "text/plain": [
       "<tf.RaggedTensor [[1], [2, 2], [3, 3, 3], [4]]>"
      ]
     },
     "execution_count": 41,
     "metadata": {},
     "output_type": "execute_result"
    }
   ],
   "source": [
    "# Para crear tensores irregulares donde las longitudes de las filas o columnas no es constante, \n",
    "# se usa la función ragged.constant\n",
    "\n",
    "e = tf.ragged.constant([[1], [2,2], [3,3,3], [4]])"
   ]
  },
  {
   "cell_type": "markdown",
   "id": "02a51328",
   "metadata": {},
   "source": [
    "### Tensores tipo string"
   ]
  },
  {
   "cell_type": "code",
   "execution_count": 43,
   "id": "625c412c",
   "metadata": {},
   "outputs": [
    {
     "data": {
      "text/plain": [
       "<tf.Tensor: shape=(), dtype=string, numpy=b'hola mundo'>"
      ]
     },
     "execution_count": 43,
     "metadata": {},
     "output_type": "execute_result"
    }
   ],
   "source": [
    "tf.constant('hola mundo')"
   ]
  },
  {
   "cell_type": "code",
   "execution_count": 45,
   "id": "50e56afd",
   "metadata": {},
   "outputs": [
    {
     "data": {
      "text/plain": [
       "<tf.Tensor: shape=(10,), dtype=string, numpy=\n",
       "array([b'h', b'o', b'l', b'a', b' ', b'm', b'u', b'n', b'd', b'o'],\n",
       "      dtype=object)>"
      ]
     },
     "execution_count": 45,
     "metadata": {},
     "output_type": "execute_result"
    }
   ],
   "source": [
    "tf.constant(list(\"hola mundo\"))"
   ]
  },
  {
   "cell_type": "code",
   "execution_count": 46,
   "id": "8cd82baf",
   "metadata": {},
   "outputs": [
    {
     "name": "stdout",
     "output_type": "stream",
     "text": [
      "tf.Tensor([ 1.  10.  10.4], shape=(3,), dtype=float32)\n"
     ]
    }
   ],
   "source": [
    "# Convertir un string a una lista de números\n",
    "\n",
    "st = tf.constant(\"1 10 10.4\")\n",
    "\n",
    "print(tf.strings.to_number(tf.strings.split(st, \" \")))"
   ]
  },
  {
   "cell_type": "markdown",
   "id": "f4b8a83c",
   "metadata": {},
   "source": [
    "### Tensores dispersos"
   ]
  },
  {
   "cell_type": "code",
   "execution_count": 49,
   "id": "253ed4d9",
   "metadata": {},
   "outputs": [
    {
     "name": "stdout",
     "output_type": "stream",
     "text": [
      "SparseTensor(indices=tf.Tensor(\n",
      "[[0 1]\n",
      " [1 2]], shape=(2, 2), dtype=int64), values=tf.Tensor([1 2], shape=(2,), dtype=int32), dense_shape=tf.Tensor([3 4], shape=(2,), dtype=int64)) \n",
      "\n",
      "tf.Tensor(\n",
      "[[0 1 0 0]\n",
      " [0 0 2 0]\n",
      " [0 0 0 0]], shape=(3, 4), dtype=int32)\n"
     ]
    }
   ],
   "source": [
    "#  tensor disperso\n",
    "st = tf.sparse.SparseTensor(indices = [[0,1], [1,2]],\n",
    "                             values = [1,2],\n",
    "                            dense_shape =[3,4])\n",
    "print(st, \"\\n\")\n",
    "\n",
    "# convierte a tensor denso\n",
    "print(tf.sparse.to_dense(st))"
   ]
  },
  {
   "cell_type": "code",
   "execution_count": null,
   "id": "8cb3d8ec",
   "metadata": {},
   "outputs": [],
   "source": []
  }
 ],
 "metadata": {
  "kernelspec": {
   "display_name": "Python 3",
   "language": "python",
   "name": "python3"
  },
  "language_info": {
   "codemirror_mode": {
    "name": "ipython",
    "version": 3
   },
   "file_extension": ".py",
   "mimetype": "text/x-python",
   "name": "python",
   "nbconvert_exporter": "python",
   "pygments_lexer": "ipython3",
   "version": "3.8.8"
  }
 },
 "nbformat": 4,
 "nbformat_minor": 5
}
